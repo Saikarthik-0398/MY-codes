{
 "cells": [
  {
   "cell_type": "code",
   "execution_count": null,
   "id": "8032632d-888c-441f-873f-8b81ba9c840c",
   "metadata": {},
   "outputs": [],
   "source": []
  },
  {
   "cell_type": "code",
   "execution_count": 1,
   "id": "1d3f6547-134a-4291-81f2-f3b2f1e4a978",
   "metadata": {},
   "outputs": [],
   "source": [
    "import pymysql\n",
    "connection = pymysql.connect(\n",
    "    host='127.0.0.1',\n",
    "    user='root',\n",
    "    password='root',\n",
    "    port=3306\n",
    ")\n"
   ]
  },
  {
   "cell_type": "code",
   "execution_count": 2,
   "id": "18b69b4d-2403-479a-8f76-2e0fed77a65f",
   "metadata": {},
   "outputs": [],
   "source": [
    "cursor = connection.cursor()"
   ]
  },
  {
   "cell_type": "code",
   "execution_count": 5,
   "id": "00424239-bdf5-4688-9af6-5cf207c3f075",
   "metadata": {},
   "outputs": [
    {
     "data": {
      "text/plain": [
       "1"
      ]
     },
     "execution_count": 5,
     "metadata": {},
     "output_type": "execute_result"
    }
   ],
   "source": [
    "#cursor.execute('''create database patient ;''')\n",
    "cursor.execute('''use patient;''')\n",
    "cursor.execute('''create table details (name char(100),email varchar(100),password varchar(100));''')\n",
    "cursor.execute('''insert into details values(\"sai\",\"spinisin@gitam.in\",\"govinda\");''')\n",
    "#user,pas = cursor.execute(f'''select email,password from details where email={email};''') "
   ]
  },
  {
   "cell_type": "code",
   "execution_count": null,
   "id": "aefc149c-0080-4eda-994a-48d00d160c9b",
   "metadata": {},
   "outputs": [],
   "source": [
    "cursor.execute(f'''select email,password from details where email=\"spinisin@gitam.in\";''') "
   ]
  },
  {
   "cell_type": "code",
   "execution_count": null,
   "id": "a086a275-cd6b-4d82-8bb4-051ffbaf0f4e",
   "metadata": {},
   "outputs": [],
   "source": [
    "res = cursor.fetchone()"
   ]
  },
  {
   "cell_type": "code",
   "execution_count": null,
   "id": "49eb8cdd-5284-4c0e-82b0-4676b274de5c",
   "metadata": {},
   "outputs": [],
   "source": [
    "user,pas = res"
   ]
  },
  {
   "cell_type": "code",
   "execution_count": null,
   "id": "77c93204-1e31-43d0-a704-04e0e142eff0",
   "metadata": {},
   "outputs": [],
   "source": [
    "cursor.execute('''insert into details values(\"sai\",\"spinisin@gitam.in\",\"govinda\");''')\n"
   ]
  },
  {
   "cell_type": "code",
   "execution_count": 6,
   "id": "3b4450b3-0c0b-41f4-9fac-61b0db3a71b6",
   "metadata": {},
   "outputs": [],
   "source": [
    "connection.commit()"
   ]
  },
  {
   "cell_type": "code",
   "execution_count": null,
   "id": "4768ccd6-5c39-4c90-b8f8-6a2079c7c812",
   "metadata": {},
   "outputs": [],
   "source": [
    "cursor.execute(\"drop table details;\")"
   ]
  },
  {
   "cell_type": "code",
   "execution_count": null,
   "id": "5df03985-f977-4d27-80f1-e717eeadbb66",
   "metadata": {},
   "outputs": [],
   "source": [
    "connection.commit()"
   ]
  },
  {
   "cell_type": "code",
   "execution_count": null,
   "id": "399d72c6-4df0-4297-ba28-e71bdce8bdc9",
   "metadata": {},
   "outputs": [],
   "source": []
  }
 ],
 "metadata": {
  "kernelspec": {
   "display_name": "Python 3 (ipykernel)",
   "language": "python",
   "name": "python3"
  },
  "language_info": {
   "codemirror_mode": {
    "name": "ipython",
    "version": 3
   },
   "file_extension": ".py",
   "mimetype": "text/x-python",
   "name": "python",
   "nbconvert_exporter": "python",
   "pygments_lexer": "ipython3",
   "version": "3.12.4"
  }
 },
 "nbformat": 4,
 "nbformat_minor": 5
}

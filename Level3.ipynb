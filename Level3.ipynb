{
 "cells": [
  {
   "cell_type": "code",
   "execution_count": 19,
   "id": "c3b3c10f-c948-4e1a-aa5e-08b394a4cb07",
   "metadata": {},
   "outputs": [],
   "source": [
    "import pandas as pd"
   ]
  },
  {
   "cell_type": "code",
   "execution_count": 20,
   "id": "e23662ec-a55e-4787-90d8-6d46ae679662",
   "metadata": {},
   "outputs": [],
   "source": [
    "df = pd.read_csv(\"Level3.csv\")"
   ]
  },
  {
   "cell_type": "code",
   "execution_count": 21,
   "id": "95945467-a8f6-4bfb-afbe-af484ad90051",
   "metadata": {},
   "outputs": [],
   "source": [
    "df = df.drop([\"Unexplained_Bruising\",\"New_Changing_Skin_Lesions\",\"Bowel_Bladder_Habit_Changes\",\"Breathlessness_Routine_Activity\",\"Hoarseness_Voice_Changes\",\"Appetite_Change\",\"Persistent_Tingling_Numbness\",\"Lump_Pressure_Feeling\"],axis=1)"
   ]
  },
  {
   "cell_type": "code",
   "execution_count": 26,
   "id": "a5317b7b-e730-435f-8826-f3297efb284e",
   "metadata": {},
   "outputs": [
    {
     "name": "stdout",
     "output_type": "stream",
     "text": [
      "Model Accuracy: 0.8333333333333334\n",
      "\n",
      "Classification Report:\n",
      "               precision    recall  f1-score   support\n",
      "\n",
      "           0       0.96      1.00      0.98        50\n",
      "           1       0.80      0.66      0.73        50\n",
      "           2       0.74      0.84      0.79        50\n",
      "\n",
      "    accuracy                           0.83       150\n",
      "   macro avg       0.83      0.83      0.83       150\n",
      "weighted avg       0.83      0.83      0.83       150\n",
      "\n",
      "Model and scaler saved successfully.\n"
     ]
    }
   ],
   "source": [
    "import pandas as pd\n",
    "import numpy as np\n",
    "from sklearn.model_selection import train_test_split\n",
    "from sklearn.linear_model import LogisticRegression\n",
    "from sklearn.preprocessing import StandardScaler\n",
    "from sklearn.metrics import classification_report, accuracy_score\n",
    "import joblib\n",
    "\n",
    "\n",
    "# Separate features and target\n",
    "X = df.drop(\"Cancer_Risk_Level\", axis=1)\n",
    "y = df[\"Cancer_Risk_Level\"]\n",
    "\n",
    "# Scale numerical features\n",
    "scaler = StandardScaler()\n",
    "X_scaled = scaler.fit_transform(X)\n",
    "\n",
    "# Split the dataset\n",
    "X_train, X_test, y_train, y_test = train_test_split(X_scaled, y, test_size=0.3, random_state=42, stratify=y)\n",
    "\n",
    "# Train a Logistic Regression model\n",
    "model = LogisticRegression(max_iter=1000, class_weight='balanced', C=0.5, random_state=42)\n",
    "model.fit(X_train, y_train)\n",
    "\n",
    "# Evaluate the model\n",
    "y_pred = model.predict(X_test)\n",
    "print(\"Model Accuracy:\", accuracy_score(y_test, y_pred))\n",
    "print(\"\\nClassification Report:\\n\", classification_report(y_test, y_pred))\n",
    "\n",
    "# Save the model and the scaler\n",
    "joblib.dump(model, 'cancer_risk_model_level3.pkl')\n",
    "joblib.dump(scaler, 'cancer_risk_scaler_level3.pkl')\n",
    "\n",
    "print(\"Model and scaler saved successfully.\")\n"
   ]
  },
  {
   "cell_type": "code",
   "execution_count": 27,
   "id": "161537a9-6abb-4066-9773-b69a3eda8014",
   "metadata": {},
   "outputs": [
    {
     "data": {
      "text/html": [
       "<div>\n",
       "<style scoped>\n",
       "    .dataframe tbody tr th:only-of-type {\n",
       "        vertical-align: middle;\n",
       "    }\n",
       "\n",
       "    .dataframe tbody tr th {\n",
       "        vertical-align: top;\n",
       "    }\n",
       "\n",
       "    .dataframe thead th {\n",
       "        text-align: right;\n",
       "    }\n",
       "</style>\n",
       "<table border=\"1\" class=\"dataframe\">\n",
       "  <thead>\n",
       "    <tr style=\"text-align: right;\">\n",
       "      <th></th>\n",
       "      <th>Night_Sweats_Frequency</th>\n",
       "      <th>Body_Swelling</th>\n",
       "      <th>Physical_Activity_Change</th>\n",
       "      <th>Sleep_Quality</th>\n",
       "      <th>Average_Sleep_Duration</th>\n",
       "      <th>Smoking_Pattern_Change</th>\n",
       "      <th>Alcohol_Consumption_Change</th>\n",
       "      <th>Unusual_Body_Odor</th>\n",
       "      <th>Unusual_Taste_Sensation</th>\n",
       "      <th>Unusual_Smell_Sensation</th>\n",
       "      <th>Memory_Problems</th>\n",
       "      <th>Mood_Swings</th>\n",
       "      <th>Difficulty_Concentrating</th>\n",
       "      <th>3_Anxiety_Stress</th>\n",
       "      <th>Loss_of_Interest_Daily_Activities</th>\n",
       "      <th>Cancer_Risk_Level</th>\n",
       "    </tr>\n",
       "  </thead>\n",
       "  <tbody>\n",
       "    <tr>\n",
       "      <th>0</th>\n",
       "      <td>1</td>\n",
       "      <td>0</td>\n",
       "      <td>1</td>\n",
       "      <td>2</td>\n",
       "      <td>9.689191</td>\n",
       "      <td>0</td>\n",
       "      <td>4</td>\n",
       "      <td>0</td>\n",
       "      <td>0</td>\n",
       "      <td>0</td>\n",
       "      <td>0</td>\n",
       "      <td>1</td>\n",
       "      <td>0</td>\n",
       "      <td>0</td>\n",
       "      <td>0</td>\n",
       "      <td>0</td>\n",
       "    </tr>\n",
       "  </tbody>\n",
       "</table>\n",
       "</div>"
      ],
      "text/plain": [
       "   Night_Sweats_Frequency  Body_Swelling  Physical_Activity_Change  \\\n",
       "0                       1              0                         1   \n",
       "\n",
       "   Sleep_Quality  Average_Sleep_Duration  Smoking_Pattern_Change  \\\n",
       "0              2                9.689191                       0   \n",
       "\n",
       "   Alcohol_Consumption_Change  Unusual_Body_Odor  Unusual_Taste_Sensation  \\\n",
       "0                           4                  0                        0   \n",
       "\n",
       "   Unusual_Smell_Sensation  Memory_Problems  Mood_Swings  \\\n",
       "0                        0                0            1   \n",
       "\n",
       "   Difficulty_Concentrating  3_Anxiety_Stress  \\\n",
       "0                         0                 0   \n",
       "\n",
       "   Loss_of_Interest_Daily_Activities  Cancer_Risk_Level  \n",
       "0                                  0                  0  "
      ]
     },
     "execution_count": 27,
     "metadata": {},
     "output_type": "execute_result"
    }
   ],
   "source": [
    "df.head(1)"
   ]
  },
  {
   "cell_type": "code",
   "execution_count": 29,
   "id": "7212cec9-e162-4115-a98b-3ec6944ccf26",
   "metadata": {},
   "outputs": [
    {
     "data": {
      "text/plain": [
       "Index(['Night_Sweats_Frequency', 'Body_Swelling', 'Physical_Activity_Change',\n",
       "       'Sleep_Quality', 'Average_Sleep_Duration', 'Smoking_Pattern_Change',\n",
       "       'Alcohol_Consumption_Change', 'Unusual_Body_Odor',\n",
       "       'Unusual_Taste_Sensation', 'Unusual_Smell_Sensation', 'Memory_Problems',\n",
       "       'Mood_Swings', 'Difficulty_Concentrating', '3_Anxiety_Stress',\n",
       "       'Loss_of_Interest_Daily_Activities', 'Cancer_Risk_Level'],\n",
       "      dtype='object')"
      ]
     },
     "execution_count": 29,
     "metadata": {},
     "output_type": "execute_result"
    }
   ],
   "source": [
    "df.columns"
   ]
  },
  {
   "cell_type": "code",
   "execution_count": null,
   "id": "0d504fe2-bb96-491a-8e9d-ae676b9b5d62",
   "metadata": {},
   "outputs": [],
   "source": []
  }
 ],
 "metadata": {
  "kernelspec": {
   "display_name": "Python 3 (ipykernel)",
   "language": "python",
   "name": "python3"
  },
  "language_info": {
   "codemirror_mode": {
    "name": "ipython",
    "version": 3
   },
   "file_extension": ".py",
   "mimetype": "text/x-python",
   "name": "python",
   "nbconvert_exporter": "python",
   "pygments_lexer": "ipython3",
   "version": "3.12.4"
  }
 },
 "nbformat": 4,
 "nbformat_minor": 5
}

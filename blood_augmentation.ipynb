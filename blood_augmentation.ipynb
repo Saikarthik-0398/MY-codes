{
 "cells": [
  {
   "cell_type": "code",
   "execution_count": 2,
   "id": "2efa3fbb-a78b-4ad1-9c23-b8acafe0500f",
   "metadata": {},
   "outputs": [
    {
     "name": "stdout",
     "output_type": "stream",
     "text": [
      "Found 796 images in Blood cell Cancer [ALL]/[Malignant] Pro-B\n",
      "Augmentation complete! Augmented images are saved to Blood cell Cancer [ALL]/[Malignant] Pro-B\n"
     ]
    }
   ],
   "source": [
    "import os\n",
    "import cv2\n",
    "import albumentations as A\n",
    "from PIL import Image\n",
    "\n",
    "\n",
    "# Define the augmentation pipeline\n",
    "augment = A.Compose([\n",
    "    A.HorizontalFlip(p=0.5),\n",
    "    A.RandomBrightnessContrast(p=0.2),\n",
    "    A.RandomRotate90(p=0.2),\n",
    "    A.RandomScale(p=0.2),\n",
    "    A.Transpose(p=0.1),\n",
    "])\n",
    "\n",
    "\n",
    "# Function to augment and save images\n",
    "def augment_images(source_folder, destination_folder):\n",
    "    if not os.path.exists(destination_folder):\n",
    "        os.makedirs(destination_folder)\n",
    "    \n",
    "    image_list = [f for f in os.listdir(source_folder) if f.endswith(('jpg', 'jpeg', 'png'))]\n",
    "    num_images = len(image_list)\n",
    "    print(f\"Found {num_images} images in {source_folder}\")\n",
    "\n",
    "    for img_file in image_list:\n",
    "        # Read each image\n",
    "        img_path = os.path.join(source_folder, img_file)\n",
    "        image = cv2.imread(img_path)\n",
    "        \n",
    "        if image is None:\n",
    "            print(f\"Skipping {img_file}, could not read.\")\n",
    "            continue\n",
    "\n",
    "        # Augment the image using transformations\n",
    "        augmented_images = []\n",
    "        for i in range(2):  # Generate 2 augmented versions per image\n",
    "            augmented = augment(image=image)['image']\n",
    "            augmented_images.append(augmented)\n",
    "\n",
    "        # Save augmented images to the destination folder\n",
    "        for idx, aug_img in enumerate(augmented_images):\n",
    "            save_path = os.path.join(destination_folder, f\"{os.path.splitext(img_file)[0]}_aug_{idx}.jpg\")\n",
    "            cv2.imwrite(save_path, aug_img)\n",
    "\n",
    "    print(f\"Augmentation complete! Augmented images are saved to {destination_folder}\")\n",
    "\n",
    "\n",
    "# Input and output folders\n",
    "source_folder = 'Blood cell Cancer [ALL]/[Malignant] Pro-B'  # Replace this with the actual path\n",
    "destination_folder = 'Blood cell Cancer [ALL]/[Malignant] Pro-B'\n",
    "\n",
    "# Call the function\n",
    "augment_images(source_folder, destination_folder)\n"
   ]
  },
  {
   "cell_type": "code",
   "execution_count": null,
   "id": "3344bb69-d49f-494b-8d07-dd49a58ce30c",
   "metadata": {},
   "outputs": [],
   "source": []
  }
 ],
 "metadata": {
  "kernelspec": {
   "display_name": "Python 3 (ipykernel)",
   "language": "python",
   "name": "python3"
  },
  "language_info": {
   "codemirror_mode": {
    "name": "ipython",
    "version": 3
   },
   "file_extension": ".py",
   "mimetype": "text/x-python",
   "name": "python",
   "nbconvert_exporter": "python",
   "pygments_lexer": "ipython3",
   "version": "3.12.4"
  }
 },
 "nbformat": 4,
 "nbformat_minor": 5
}
